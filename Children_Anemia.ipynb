{
  "nbformat": 4,
  "nbformat_minor": 0,
  "metadata": {
    "colab": {
      "provenance": [],
      "gpuType": "T4",
      "toc_visible": true
    },
    "kernelspec": {
      "name": "python3",
      "display_name": "Python 3"
    },
    "language_info": {
      "name": "python"
    },
    "accelerator": "GPU"
  },
  "cells": [
    {
      "cell_type": "code",
      "execution_count": null,
      "metadata": {
        "colab": {
          "base_uri": "https://localhost:8080/"
        },
        "id": "-bdec3gN7JHV",
        "outputId": "afa7eb0d-8b81-44d5-e580-5e3893a3794e"
      },
      "outputs": [
        {
          "output_type": "stream",
          "name": "stdout",
          "text": [
            "Dataset URL: https://www.kaggle.com/datasets/adeolaadesina/factors-affecting-children-anemia-level\n",
            "License(s): DbCL-1.0\n",
            "Downloading factors-affecting-children-anemia-level.zip to /content\n",
            "  0% 0.00/258k [00:00<?, ?B/s]\n",
            "100% 258k/258k [00:00<00:00, 26.1MB/s]\n"
          ]
        }
      ],
      "source": [
        "!kaggle datasets download -d adeolaadesina/factors-affecting-children-anemia-level"
      ]
    },
    {
      "cell_type": "code",
      "source": [
        "!unzip  factors-affecting-children-anemia-level.zip"
      ],
      "metadata": {
        "colab": {
          "base_uri": "https://localhost:8080/"
        },
        "id": "vC-CjYJ39S8M",
        "outputId": "e7629c6a-e0b2-4b3b-fb0e-892c6fdf2e61"
      },
      "execution_count": null,
      "outputs": [
        {
          "output_type": "stream",
          "name": "stdout",
          "text": [
            "Archive:  factors-affecting-children-anemia-level.zip\n",
            "  inflating: children anemia.csv     \n"
          ]
        }
      ]
    },
    {
      "cell_type": "markdown",
      "source": [
        "#Reading and Exploring Data"
      ],
      "metadata": {
        "id": "OPFqo6tH71rI"
      }
    },
    {
      "cell_type": "code",
      "source": [
        "import pandas as pd\n",
        "\n",
        "df=pd.read_csv('/content/children anemia.csv')\n",
        "df.head()"
      ],
      "metadata": {
        "colab": {
          "base_uri": "https://localhost:8080/",
          "height": 399
        },
        "id": "5zHI7dcD7wki",
        "outputId": "e9d982c4-5cad-4cc3-9e3c-b679d609236f"
      },
      "execution_count": null,
      "outputs": [
        {
          "output_type": "execute_result",
          "data": {
            "text/plain": [
              "  Age in 5-year groups Type of place of residence Highest educational level  \\\n",
              "0                40-44                      Urban                    Higher   \n",
              "1                35-39                      Urban                    Higher   \n",
              "2                25-29                      Urban                    Higher   \n",
              "3                25-29                      Urban                 Secondary   \n",
              "4                20-24                      Urban                 Secondary   \n",
              "\n",
              "  Wealth index combined  Births in last five years  \\\n",
              "0               Richest                          1   \n",
              "1               Richest                          1   \n",
              "2               Richest                          1   \n",
              "3               Richest                          1   \n",
              "4               Richest                          1   \n",
              "\n",
              "   Age of respondent at 1st birth  \\\n",
              "0                              22   \n",
              "1                              28   \n",
              "2                              26   \n",
              "3                              25   \n",
              "4                              21   \n",
              "\n",
              "   Hemoglobin level adjusted for altitude and smoking (g/dl - 1 decimal)  \\\n",
              "0                                                NaN                       \n",
              "1                                                NaN                       \n",
              "2                                                NaN                       \n",
              "3                                               95.0                       \n",
              "4                                                NaN                       \n",
              "\n",
              "  Anemia level  \\\n",
              "0          NaN   \n",
              "1          NaN   \n",
              "2          NaN   \n",
              "3     Moderate   \n",
              "4          NaN   \n",
              "\n",
              "  Have mosquito bed net for sleeping (from household questionnaire)  \\\n",
              "0                                                Yes                  \n",
              "1                                                Yes                  \n",
              "2                                                 No                  \n",
              "3                                                Yes                  \n",
              "4                                                Yes                  \n",
              "\n",
              "  Smokes cigarettes               Current marital status  \\\n",
              "0                No                  Living with partner   \n",
              "1                No                              Married   \n",
              "2                No                              Married   \n",
              "3                No                              Married   \n",
              "4                No  No longer living together/separated   \n",
              "\n",
              "  Currently residing with husband/partner When child put to breast  \\\n",
              "0                       Staying elsewhere              Immediately   \n",
              "1                         Living with her                 Hours: 1   \n",
              "2                         Living with her              Immediately   \n",
              "3                         Living with her                    105.0   \n",
              "4                                     NaN              Immediately   \n",
              "\n",
              "  Had fever in last two weeks  \\\n",
              "0                          No   \n",
              "1                          No   \n",
              "2                          No   \n",
              "3                          No   \n",
              "4                          No   \n",
              "\n",
              "   Hemoglobin level adjusted for altitude (g/dl - 1 decimal) Anemia level.1  \\\n",
              "0                                                NaN                    NaN   \n",
              "1                                                NaN                    NaN   \n",
              "2                                                NaN                    NaN   \n",
              "3                                              114.0             Not anemic   \n",
              "4                                                NaN                    NaN   \n",
              "\n",
              "  Taking iron pills, sprinkles or syrup  \n",
              "0                                   Yes  \n",
              "1                                    No  \n",
              "2                                    No  \n",
              "3                                    No  \n",
              "4                                    No  "
            ],
            "text/html": [
              "\n",
              "  <div id=\"df-f6884d29-e8bd-4aae-8a91-e2ab73cae8d3\" class=\"colab-df-container\">\n",
              "    <div>\n",
              "<style scoped>\n",
              "    .dataframe tbody tr th:only-of-type {\n",
              "        vertical-align: middle;\n",
              "    }\n",
              "\n",
              "    .dataframe tbody tr th {\n",
              "        vertical-align: top;\n",
              "    }\n",
              "\n",
              "    .dataframe thead th {\n",
              "        text-align: right;\n",
              "    }\n",
              "</style>\n",
              "<table border=\"1\" class=\"dataframe\">\n",
              "  <thead>\n",
              "    <tr style=\"text-align: right;\">\n",
              "      <th></th>\n",
              "      <th>Age in 5-year groups</th>\n",
              "      <th>Type of place of residence</th>\n",
              "      <th>Highest educational level</th>\n",
              "      <th>Wealth index combined</th>\n",
              "      <th>Births in last five years</th>\n",
              "      <th>Age of respondent at 1st birth</th>\n",
              "      <th>Hemoglobin level adjusted for altitude and smoking (g/dl - 1 decimal)</th>\n",
              "      <th>Anemia level</th>\n",
              "      <th>Have mosquito bed net for sleeping (from household questionnaire)</th>\n",
              "      <th>Smokes cigarettes</th>\n",
              "      <th>Current marital status</th>\n",
              "      <th>Currently residing with husband/partner</th>\n",
              "      <th>When child put to breast</th>\n",
              "      <th>Had fever in last two weeks</th>\n",
              "      <th>Hemoglobin level adjusted for altitude (g/dl - 1 decimal)</th>\n",
              "      <th>Anemia level.1</th>\n",
              "      <th>Taking iron pills, sprinkles or syrup</th>\n",
              "    </tr>\n",
              "  </thead>\n",
              "  <tbody>\n",
              "    <tr>\n",
              "      <th>0</th>\n",
              "      <td>40-44</td>\n",
              "      <td>Urban</td>\n",
              "      <td>Higher</td>\n",
              "      <td>Richest</td>\n",
              "      <td>1</td>\n",
              "      <td>22</td>\n",
              "      <td>NaN</td>\n",
              "      <td>NaN</td>\n",
              "      <td>Yes</td>\n",
              "      <td>No</td>\n",
              "      <td>Living with partner</td>\n",
              "      <td>Staying elsewhere</td>\n",
              "      <td>Immediately</td>\n",
              "      <td>No</td>\n",
              "      <td>NaN</td>\n",
              "      <td>NaN</td>\n",
              "      <td>Yes</td>\n",
              "    </tr>\n",
              "    <tr>\n",
              "      <th>1</th>\n",
              "      <td>35-39</td>\n",
              "      <td>Urban</td>\n",
              "      <td>Higher</td>\n",
              "      <td>Richest</td>\n",
              "      <td>1</td>\n",
              "      <td>28</td>\n",
              "      <td>NaN</td>\n",
              "      <td>NaN</td>\n",
              "      <td>Yes</td>\n",
              "      <td>No</td>\n",
              "      <td>Married</td>\n",
              "      <td>Living with her</td>\n",
              "      <td>Hours: 1</td>\n",
              "      <td>No</td>\n",
              "      <td>NaN</td>\n",
              "      <td>NaN</td>\n",
              "      <td>No</td>\n",
              "    </tr>\n",
              "    <tr>\n",
              "      <th>2</th>\n",
              "      <td>25-29</td>\n",
              "      <td>Urban</td>\n",
              "      <td>Higher</td>\n",
              "      <td>Richest</td>\n",
              "      <td>1</td>\n",
              "      <td>26</td>\n",
              "      <td>NaN</td>\n",
              "      <td>NaN</td>\n",
              "      <td>No</td>\n",
              "      <td>No</td>\n",
              "      <td>Married</td>\n",
              "      <td>Living with her</td>\n",
              "      <td>Immediately</td>\n",
              "      <td>No</td>\n",
              "      <td>NaN</td>\n",
              "      <td>NaN</td>\n",
              "      <td>No</td>\n",
              "    </tr>\n",
              "    <tr>\n",
              "      <th>3</th>\n",
              "      <td>25-29</td>\n",
              "      <td>Urban</td>\n",
              "      <td>Secondary</td>\n",
              "      <td>Richest</td>\n",
              "      <td>1</td>\n",
              "      <td>25</td>\n",
              "      <td>95.0</td>\n",
              "      <td>Moderate</td>\n",
              "      <td>Yes</td>\n",
              "      <td>No</td>\n",
              "      <td>Married</td>\n",
              "      <td>Living with her</td>\n",
              "      <td>105.0</td>\n",
              "      <td>No</td>\n",
              "      <td>114.0</td>\n",
              "      <td>Not anemic</td>\n",
              "      <td>No</td>\n",
              "    </tr>\n",
              "    <tr>\n",
              "      <th>4</th>\n",
              "      <td>20-24</td>\n",
              "      <td>Urban</td>\n",
              "      <td>Secondary</td>\n",
              "      <td>Richest</td>\n",
              "      <td>1</td>\n",
              "      <td>21</td>\n",
              "      <td>NaN</td>\n",
              "      <td>NaN</td>\n",
              "      <td>Yes</td>\n",
              "      <td>No</td>\n",
              "      <td>No longer living together/separated</td>\n",
              "      <td>NaN</td>\n",
              "      <td>Immediately</td>\n",
              "      <td>No</td>\n",
              "      <td>NaN</td>\n",
              "      <td>NaN</td>\n",
              "      <td>No</td>\n",
              "    </tr>\n",
              "  </tbody>\n",
              "</table>\n",
              "</div>\n",
              "    <div class=\"colab-df-buttons\">\n",
              "\n",
              "  <div class=\"colab-df-container\">\n",
              "    <button class=\"colab-df-convert\" onclick=\"convertToInteractive('df-f6884d29-e8bd-4aae-8a91-e2ab73cae8d3')\"\n",
              "            title=\"Convert this dataframe to an interactive table.\"\n",
              "            style=\"display:none;\">\n",
              "\n",
              "  <svg xmlns=\"http://www.w3.org/2000/svg\" height=\"24px\" viewBox=\"0 -960 960 960\">\n",
              "    <path d=\"M120-120v-720h720v720H120Zm60-500h600v-160H180v160Zm220 220h160v-160H400v160Zm0 220h160v-160H400v160ZM180-400h160v-160H180v160Zm440 0h160v-160H620v160ZM180-180h160v-160H180v160Zm440 0h160v-160H620v160Z\"/>\n",
              "  </svg>\n",
              "    </button>\n",
              "\n",
              "  <style>\n",
              "    .colab-df-container {\n",
              "      display:flex;\n",
              "      gap: 12px;\n",
              "    }\n",
              "\n",
              "    .colab-df-convert {\n",
              "      background-color: #E8F0FE;\n",
              "      border: none;\n",
              "      border-radius: 50%;\n",
              "      cursor: pointer;\n",
              "      display: none;\n",
              "      fill: #1967D2;\n",
              "      height: 32px;\n",
              "      padding: 0 0 0 0;\n",
              "      width: 32px;\n",
              "    }\n",
              "\n",
              "    .colab-df-convert:hover {\n",
              "      background-color: #E2EBFA;\n",
              "      box-shadow: 0px 1px 2px rgba(60, 64, 67, 0.3), 0px 1px 3px 1px rgba(60, 64, 67, 0.15);\n",
              "      fill: #174EA6;\n",
              "    }\n",
              "\n",
              "    .colab-df-buttons div {\n",
              "      margin-bottom: 4px;\n",
              "    }\n",
              "\n",
              "    [theme=dark] .colab-df-convert {\n",
              "      background-color: #3B4455;\n",
              "      fill: #D2E3FC;\n",
              "    }\n",
              "\n",
              "    [theme=dark] .colab-df-convert:hover {\n",
              "      background-color: #434B5C;\n",
              "      box-shadow: 0px 1px 3px 1px rgba(0, 0, 0, 0.15);\n",
              "      filter: drop-shadow(0px 1px 2px rgba(0, 0, 0, 0.3));\n",
              "      fill: #FFFFFF;\n",
              "    }\n",
              "  </style>\n",
              "\n",
              "    <script>\n",
              "      const buttonEl =\n",
              "        document.querySelector('#df-f6884d29-e8bd-4aae-8a91-e2ab73cae8d3 button.colab-df-convert');\n",
              "      buttonEl.style.display =\n",
              "        google.colab.kernel.accessAllowed ? 'block' : 'none';\n",
              "\n",
              "      async function convertToInteractive(key) {\n",
              "        const element = document.querySelector('#df-f6884d29-e8bd-4aae-8a91-e2ab73cae8d3');\n",
              "        const dataTable =\n",
              "          await google.colab.kernel.invokeFunction('convertToInteractive',\n",
              "                                                    [key], {});\n",
              "        if (!dataTable) return;\n",
              "\n",
              "        const docLinkHtml = 'Like what you see? Visit the ' +\n",
              "          '<a target=\"_blank\" href=https://colab.research.google.com/notebooks/data_table.ipynb>data table notebook</a>'\n",
              "          + ' to learn more about interactive tables.';\n",
              "        element.innerHTML = '';\n",
              "        dataTable['output_type'] = 'display_data';\n",
              "        await google.colab.output.renderOutput(dataTable, element);\n",
              "        const docLink = document.createElement('div');\n",
              "        docLink.innerHTML = docLinkHtml;\n",
              "        element.appendChild(docLink);\n",
              "      }\n",
              "    </script>\n",
              "  </div>\n",
              "\n",
              "\n",
              "<div id=\"df-99bf9944-261c-457b-87b2-7b409b3c216d\">\n",
              "  <button class=\"colab-df-quickchart\" onclick=\"quickchart('df-99bf9944-261c-457b-87b2-7b409b3c216d')\"\n",
              "            title=\"Suggest charts\"\n",
              "            style=\"display:none;\">\n",
              "\n",
              "<svg xmlns=\"http://www.w3.org/2000/svg\" height=\"24px\"viewBox=\"0 0 24 24\"\n",
              "     width=\"24px\">\n",
              "    <g>\n",
              "        <path d=\"M19 3H5c-1.1 0-2 .9-2 2v14c0 1.1.9 2 2 2h14c1.1 0 2-.9 2-2V5c0-1.1-.9-2-2-2zM9 17H7v-7h2v7zm4 0h-2V7h2v10zm4 0h-2v-4h2v4z\"/>\n",
              "    </g>\n",
              "</svg>\n",
              "  </button>\n",
              "\n",
              "<style>\n",
              "  .colab-df-quickchart {\n",
              "      --bg-color: #E8F0FE;\n",
              "      --fill-color: #1967D2;\n",
              "      --hover-bg-color: #E2EBFA;\n",
              "      --hover-fill-color: #174EA6;\n",
              "      --disabled-fill-color: #AAA;\n",
              "      --disabled-bg-color: #DDD;\n",
              "  }\n",
              "\n",
              "  [theme=dark] .colab-df-quickchart {\n",
              "      --bg-color: #3B4455;\n",
              "      --fill-color: #D2E3FC;\n",
              "      --hover-bg-color: #434B5C;\n",
              "      --hover-fill-color: #FFFFFF;\n",
              "      --disabled-bg-color: #3B4455;\n",
              "      --disabled-fill-color: #666;\n",
              "  }\n",
              "\n",
              "  .colab-df-quickchart {\n",
              "    background-color: var(--bg-color);\n",
              "    border: none;\n",
              "    border-radius: 50%;\n",
              "    cursor: pointer;\n",
              "    display: none;\n",
              "    fill: var(--fill-color);\n",
              "    height: 32px;\n",
              "    padding: 0;\n",
              "    width: 32px;\n",
              "  }\n",
              "\n",
              "  .colab-df-quickchart:hover {\n",
              "    background-color: var(--hover-bg-color);\n",
              "    box-shadow: 0 1px 2px rgba(60, 64, 67, 0.3), 0 1px 3px 1px rgba(60, 64, 67, 0.15);\n",
              "    fill: var(--button-hover-fill-color);\n",
              "  }\n",
              "\n",
              "  .colab-df-quickchart-complete:disabled,\n",
              "  .colab-df-quickchart-complete:disabled:hover {\n",
              "    background-color: var(--disabled-bg-color);\n",
              "    fill: var(--disabled-fill-color);\n",
              "    box-shadow: none;\n",
              "  }\n",
              "\n",
              "  .colab-df-spinner {\n",
              "    border: 2px solid var(--fill-color);\n",
              "    border-color: transparent;\n",
              "    border-bottom-color: var(--fill-color);\n",
              "    animation:\n",
              "      spin 1s steps(1) infinite;\n",
              "  }\n",
              "\n",
              "  @keyframes spin {\n",
              "    0% {\n",
              "      border-color: transparent;\n",
              "      border-bottom-color: var(--fill-color);\n",
              "      border-left-color: var(--fill-color);\n",
              "    }\n",
              "    20% {\n",
              "      border-color: transparent;\n",
              "      border-left-color: var(--fill-color);\n",
              "      border-top-color: var(--fill-color);\n",
              "    }\n",
              "    30% {\n",
              "      border-color: transparent;\n",
              "      border-left-color: var(--fill-color);\n",
              "      border-top-color: var(--fill-color);\n",
              "      border-right-color: var(--fill-color);\n",
              "    }\n",
              "    40% {\n",
              "      border-color: transparent;\n",
              "      border-right-color: var(--fill-color);\n",
              "      border-top-color: var(--fill-color);\n",
              "    }\n",
              "    60% {\n",
              "      border-color: transparent;\n",
              "      border-right-color: var(--fill-color);\n",
              "    }\n",
              "    80% {\n",
              "      border-color: transparent;\n",
              "      border-right-color: var(--fill-color);\n",
              "      border-bottom-color: var(--fill-color);\n",
              "    }\n",
              "    90% {\n",
              "      border-color: transparent;\n",
              "      border-bottom-color: var(--fill-color);\n",
              "    }\n",
              "  }\n",
              "</style>\n",
              "\n",
              "  <script>\n",
              "    async function quickchart(key) {\n",
              "      const quickchartButtonEl =\n",
              "        document.querySelector('#' + key + ' button');\n",
              "      quickchartButtonEl.disabled = true;  // To prevent multiple clicks.\n",
              "      quickchartButtonEl.classList.add('colab-df-spinner');\n",
              "      try {\n",
              "        const charts = await google.colab.kernel.invokeFunction(\n",
              "            'suggestCharts', [key], {});\n",
              "      } catch (error) {\n",
              "        console.error('Error during call to suggestCharts:', error);\n",
              "      }\n",
              "      quickchartButtonEl.classList.remove('colab-df-spinner');\n",
              "      quickchartButtonEl.classList.add('colab-df-quickchart-complete');\n",
              "    }\n",
              "    (() => {\n",
              "      let quickchartButtonEl =\n",
              "        document.querySelector('#df-99bf9944-261c-457b-87b2-7b409b3c216d button');\n",
              "      quickchartButtonEl.style.display =\n",
              "        google.colab.kernel.accessAllowed ? 'block' : 'none';\n",
              "    })();\n",
              "  </script>\n",
              "</div>\n",
              "\n",
              "    </div>\n",
              "  </div>\n"
            ],
            "application/vnd.google.colaboratory.intrinsic+json": {
              "type": "dataframe",
              "variable_name": "df",
              "summary": "{\n  \"name\": \"df\",\n  \"rows\": 33924,\n  \"fields\": [\n    {\n      \"column\": \"Age in 5-year groups\",\n      \"properties\": {\n        \"dtype\": \"category\",\n        \"num_unique_values\": 7,\n        \"samples\": [\n          \"40-44\",\n          \"35-39\",\n          \"15-19\"\n        ],\n        \"semantic_type\": \"\",\n        \"description\": \"\"\n      }\n    },\n    {\n      \"column\": \"Type of place of residence\",\n      \"properties\": {\n        \"dtype\": \"category\",\n        \"num_unique_values\": 2,\n        \"samples\": [\n          \"Rural\",\n          \"Urban\"\n        ],\n        \"semantic_type\": \"\",\n        \"description\": \"\"\n      }\n    },\n    {\n      \"column\": \"Highest educational level\",\n      \"properties\": {\n        \"dtype\": \"category\",\n        \"num_unique_values\": 4,\n        \"samples\": [\n          \"Secondary\",\n          \"No education\"\n        ],\n        \"semantic_type\": \"\",\n        \"description\": \"\"\n      }\n    },\n    {\n      \"column\": \"Wealth index combined\",\n      \"properties\": {\n        \"dtype\": \"category\",\n        \"num_unique_values\": 5,\n        \"samples\": [\n          \"Richer\",\n          \"Poorest\"\n        ],\n        \"semantic_type\": \"\",\n        \"description\": \"\"\n      }\n    },\n    {\n      \"column\": \"Births in last five years\",\n      \"properties\": {\n        \"dtype\": \"number\",\n        \"std\": 0,\n        \"min\": 1,\n        \"max\": 6,\n        \"num_unique_values\": 6,\n        \"samples\": [\n          1,\n          2\n        ],\n        \"semantic_type\": \"\",\n        \"description\": \"\"\n      }\n    },\n    {\n      \"column\": \"Age of respondent at 1st birth\",\n      \"properties\": {\n        \"dtype\": \"number\",\n        \"std\": 4,\n        \"min\": 12,\n        \"max\": 48,\n        \"num_unique_values\": 34,\n        \"samples\": [\n          33,\n          12\n        ],\n        \"semantic_type\": \"\",\n        \"description\": \"\"\n      }\n    },\n    {\n      \"column\": \"Hemoglobin level adjusted for altitude and smoking (g/dl - 1 decimal)\",\n      \"properties\": {\n        \"dtype\": \"number\",\n        \"std\": 15.915408420715398,\n        \"min\": 20.0,\n        \"max\": 218.0,\n        \"num_unique_values\": 123,\n        \"samples\": [\n          146.0,\n          120.0\n        ],\n        \"semantic_type\": \"\",\n        \"description\": \"\"\n      }\n    },\n    {\n      \"column\": \"Anemia level\",\n      \"properties\": {\n        \"dtype\": \"category\",\n        \"num_unique_values\": 4,\n        \"samples\": [\n          \"Mild\",\n          \"Severe\"\n        ],\n        \"semantic_type\": \"\",\n        \"description\": \"\"\n      }\n    },\n    {\n      \"column\": \"Have mosquito bed net for sleeping (from household questionnaire)\",\n      \"properties\": {\n        \"dtype\": \"category\",\n        \"num_unique_values\": 2,\n        \"samples\": [\n          \"No\",\n          \"Yes\"\n        ],\n        \"semantic_type\": \"\",\n        \"description\": \"\"\n      }\n    },\n    {\n      \"column\": \"Smokes cigarettes\",\n      \"properties\": {\n        \"dtype\": \"category\",\n        \"num_unique_values\": 2,\n        \"samples\": [\n          \"Yes\",\n          \"No\"\n        ],\n        \"semantic_type\": \"\",\n        \"description\": \"\"\n      }\n    },\n    {\n      \"column\": \"Current marital status\",\n      \"properties\": {\n        \"dtype\": \"category\",\n        \"num_unique_values\": 6,\n        \"samples\": [\n          \"Living with partner\",\n          \"Married\"\n        ],\n        \"semantic_type\": \"\",\n        \"description\": \"\"\n      }\n    },\n    {\n      \"column\": \"Currently residing with husband/partner\",\n      \"properties\": {\n        \"dtype\": \"category\",\n        \"num_unique_values\": 2,\n        \"samples\": [\n          \"Living with her\",\n          \"Staying elsewhere\"\n        ],\n        \"semantic_type\": \"\",\n        \"description\": \"\"\n      }\n    },\n    {\n      \"column\": \"When child put to breast\",\n      \"properties\": {\n        \"dtype\": \"category\",\n        \"num_unique_values\": 41,\n        \"samples\": [\n          \"114.0\",\n          \"120.0\"\n        ],\n        \"semantic_type\": \"\",\n        \"description\": \"\"\n      }\n    },\n    {\n      \"column\": \"Had fever in last two weeks\",\n      \"properties\": {\n        \"dtype\": \"category\",\n        \"num_unique_values\": 3,\n        \"samples\": [\n          \"No\",\n          \"Yes\"\n        ],\n        \"semantic_type\": \"\",\n        \"description\": \"\"\n      }\n    },\n    {\n      \"column\": \"Hemoglobin level adjusted for altitude (g/dl - 1 decimal)\",\n      \"properties\": {\n        \"dtype\": \"number\",\n        \"std\": 15.569583072371056,\n        \"min\": 29.0,\n        \"max\": 170.0,\n        \"num_unique_values\": 119,\n        \"samples\": [\n          132.0,\n          70.0\n        ],\n        \"semantic_type\": \"\",\n        \"description\": \"\"\n      }\n    },\n    {\n      \"column\": \"Anemia level.1\",\n      \"properties\": {\n        \"dtype\": \"category\",\n        \"num_unique_values\": 4,\n        \"samples\": [\n          \"Mild\",\n          \"Severe\"\n        ],\n        \"semantic_type\": \"\",\n        \"description\": \"\"\n      }\n    },\n    {\n      \"column\": \"Taking iron pills, sprinkles or syrup\",\n      \"properties\": {\n        \"dtype\": \"category\",\n        \"num_unique_values\": 3,\n        \"samples\": [\n          \"Yes\",\n          \"No\"\n        ],\n        \"semantic_type\": \"\",\n        \"description\": \"\"\n      }\n    }\n  ]\n}"
            }
          },
          "metadata": {},
          "execution_count": 5
        }
      ]
    },
    {
      "cell_type": "code",
      "source": [
        "df.info()"
      ],
      "metadata": {
        "colab": {
          "base_uri": "https://localhost:8080/"
        },
        "id": "pb4sEUqO8EOi",
        "outputId": "61f2e233-6f18-4421-9f12-9b2bdbd5b7f6"
      },
      "execution_count": null,
      "outputs": [
        {
          "output_type": "stream",
          "name": "stdout",
          "text": [
            "<class 'pandas.core.frame.DataFrame'>\n",
            "RangeIndex: 33924 entries, 0 to 33923\n",
            "Data columns (total 17 columns):\n",
            " #   Column                                                                 Non-Null Count  Dtype  \n",
            "---  ------                                                                 --------------  -----  \n",
            " 0   Age in 5-year groups                                                   33924 non-null  object \n",
            " 1   Type of place of residence                                             33924 non-null  object \n",
            " 2   Highest educational level                                              33924 non-null  object \n",
            " 3   Wealth index combined                                                  33924 non-null  object \n",
            " 4   Births in last five years                                              33924 non-null  int64  \n",
            " 5   Age of respondent at 1st birth                                         33924 non-null  int64  \n",
            " 6   Hemoglobin level adjusted for altitude and smoking (g/dl - 1 decimal)  13136 non-null  float64\n",
            " 7   Anemia level                                                           13136 non-null  object \n",
            " 8   Have mosquito bed net for sleeping (from household questionnaire)      33924 non-null  object \n",
            " 9   Smokes cigarettes                                                      33924 non-null  object \n",
            " 10  Current marital status                                                 33924 non-null  object \n",
            " 11  Currently residing with husband/partner                                32226 non-null  object \n",
            " 12  When child put to breast                                               21168 non-null  object \n",
            " 13  Had fever in last two weeks                                            30713 non-null  object \n",
            " 14  Hemoglobin level adjusted for altitude (g/dl - 1 decimal)              10182 non-null  float64\n",
            " 15  Anemia level.1                                                         10182 non-null  object \n",
            " 16  Taking iron pills, sprinkles or syrup                                  30713 non-null  object \n",
            "dtypes: float64(2), int64(2), object(13)\n",
            "memory usage: 4.4+ MB\n"
          ]
        }
      ]
    },
    {
      "cell_type": "code",
      "source": [
        "df.describe()"
      ],
      "metadata": {
        "colab": {
          "base_uri": "https://localhost:8080/",
          "height": 317
        },
        "id": "ptzsk9ri8LUU",
        "outputId": "73335745-b21c-473a-8e42-fd37fcb94e5c"
      },
      "execution_count": null,
      "outputs": [
        {
          "output_type": "execute_result",
          "data": {
            "text/plain": [
              "       Births in last five years  Age of respondent at 1st birth  \\\n",
              "count               33924.000000                    33924.000000   \n",
              "mean                    1.823783                       19.570776   \n",
              "std                     0.705460                        4.313172   \n",
              "min                     1.000000                       12.000000   \n",
              "25%                     1.000000                       16.000000   \n",
              "50%                     2.000000                       19.000000   \n",
              "75%                     2.000000                       22.000000   \n",
              "max                     6.000000                       48.000000   \n",
              "\n",
              "       Hemoglobin level adjusted for altitude and smoking (g/dl - 1 decimal)  \\\n",
              "count                                       13136.000000                       \n",
              "mean                                          114.367235                       \n",
              "std                                            15.915408                       \n",
              "min                                            20.000000                       \n",
              "25%                                           105.000000                       \n",
              "50%                                           115.000000                       \n",
              "75%                                           125.000000                       \n",
              "max                                           218.000000                       \n",
              "\n",
              "       Hemoglobin level adjusted for altitude (g/dl - 1 decimal)  \n",
              "count                                       10182.000000          \n",
              "mean                                          101.270183          \n",
              "std                                            15.569583          \n",
              "min                                            29.000000          \n",
              "25%                                            92.000000          \n",
              "50%                                           103.000000          \n",
              "75%                                           112.000000          \n",
              "max                                           170.000000          "
            ],
            "text/html": [
              "\n",
              "  <div id=\"df-5ea4b56b-6ed0-4304-a796-2399afc21837\" class=\"colab-df-container\">\n",
              "    <div>\n",
              "<style scoped>\n",
              "    .dataframe tbody tr th:only-of-type {\n",
              "        vertical-align: middle;\n",
              "    }\n",
              "\n",
              "    .dataframe tbody tr th {\n",
              "        vertical-align: top;\n",
              "    }\n",
              "\n",
              "    .dataframe thead th {\n",
              "        text-align: right;\n",
              "    }\n",
              "</style>\n",
              "<table border=\"1\" class=\"dataframe\">\n",
              "  <thead>\n",
              "    <tr style=\"text-align: right;\">\n",
              "      <th></th>\n",
              "      <th>Births in last five years</th>\n",
              "      <th>Age of respondent at 1st birth</th>\n",
              "      <th>Hemoglobin level adjusted for altitude and smoking (g/dl - 1 decimal)</th>\n",
              "      <th>Hemoglobin level adjusted for altitude (g/dl - 1 decimal)</th>\n",
              "    </tr>\n",
              "  </thead>\n",
              "  <tbody>\n",
              "    <tr>\n",
              "      <th>count</th>\n",
              "      <td>33924.000000</td>\n",
              "      <td>33924.000000</td>\n",
              "      <td>13136.000000</td>\n",
              "      <td>10182.000000</td>\n",
              "    </tr>\n",
              "    <tr>\n",
              "      <th>mean</th>\n",
              "      <td>1.823783</td>\n",
              "      <td>19.570776</td>\n",
              "      <td>114.367235</td>\n",
              "      <td>101.270183</td>\n",
              "    </tr>\n",
              "    <tr>\n",
              "      <th>std</th>\n",
              "      <td>0.705460</td>\n",
              "      <td>4.313172</td>\n",
              "      <td>15.915408</td>\n",
              "      <td>15.569583</td>\n",
              "    </tr>\n",
              "    <tr>\n",
              "      <th>min</th>\n",
              "      <td>1.000000</td>\n",
              "      <td>12.000000</td>\n",
              "      <td>20.000000</td>\n",
              "      <td>29.000000</td>\n",
              "    </tr>\n",
              "    <tr>\n",
              "      <th>25%</th>\n",
              "      <td>1.000000</td>\n",
              "      <td>16.000000</td>\n",
              "      <td>105.000000</td>\n",
              "      <td>92.000000</td>\n",
              "    </tr>\n",
              "    <tr>\n",
              "      <th>50%</th>\n",
              "      <td>2.000000</td>\n",
              "      <td>19.000000</td>\n",
              "      <td>115.000000</td>\n",
              "      <td>103.000000</td>\n",
              "    </tr>\n",
              "    <tr>\n",
              "      <th>75%</th>\n",
              "      <td>2.000000</td>\n",
              "      <td>22.000000</td>\n",
              "      <td>125.000000</td>\n",
              "      <td>112.000000</td>\n",
              "    </tr>\n",
              "    <tr>\n",
              "      <th>max</th>\n",
              "      <td>6.000000</td>\n",
              "      <td>48.000000</td>\n",
              "      <td>218.000000</td>\n",
              "      <td>170.000000</td>\n",
              "    </tr>\n",
              "  </tbody>\n",
              "</table>\n",
              "</div>\n",
              "    <div class=\"colab-df-buttons\">\n",
              "\n",
              "  <div class=\"colab-df-container\">\n",
              "    <button class=\"colab-df-convert\" onclick=\"convertToInteractive('df-5ea4b56b-6ed0-4304-a796-2399afc21837')\"\n",
              "            title=\"Convert this dataframe to an interactive table.\"\n",
              "            style=\"display:none;\">\n",
              "\n",
              "  <svg xmlns=\"http://www.w3.org/2000/svg\" height=\"24px\" viewBox=\"0 -960 960 960\">\n",
              "    <path d=\"M120-120v-720h720v720H120Zm60-500h600v-160H180v160Zm220 220h160v-160H400v160Zm0 220h160v-160H400v160ZM180-400h160v-160H180v160Zm440 0h160v-160H620v160ZM180-180h160v-160H180v160Zm440 0h160v-160H620v160Z\"/>\n",
              "  </svg>\n",
              "    </button>\n",
              "\n",
              "  <style>\n",
              "    .colab-df-container {\n",
              "      display:flex;\n",
              "      gap: 12px;\n",
              "    }\n",
              "\n",
              "    .colab-df-convert {\n",
              "      background-color: #E8F0FE;\n",
              "      border: none;\n",
              "      border-radius: 50%;\n",
              "      cursor: pointer;\n",
              "      display: none;\n",
              "      fill: #1967D2;\n",
              "      height: 32px;\n",
              "      padding: 0 0 0 0;\n",
              "      width: 32px;\n",
              "    }\n",
              "\n",
              "    .colab-df-convert:hover {\n",
              "      background-color: #E2EBFA;\n",
              "      box-shadow: 0px 1px 2px rgba(60, 64, 67, 0.3), 0px 1px 3px 1px rgba(60, 64, 67, 0.15);\n",
              "      fill: #174EA6;\n",
              "    }\n",
              "\n",
              "    .colab-df-buttons div {\n",
              "      margin-bottom: 4px;\n",
              "    }\n",
              "\n",
              "    [theme=dark] .colab-df-convert {\n",
              "      background-color: #3B4455;\n",
              "      fill: #D2E3FC;\n",
              "    }\n",
              "\n",
              "    [theme=dark] .colab-df-convert:hover {\n",
              "      background-color: #434B5C;\n",
              "      box-shadow: 0px 1px 3px 1px rgba(0, 0, 0, 0.15);\n",
              "      filter: drop-shadow(0px 1px 2px rgba(0, 0, 0, 0.3));\n",
              "      fill: #FFFFFF;\n",
              "    }\n",
              "  </style>\n",
              "\n",
              "    <script>\n",
              "      const buttonEl =\n",
              "        document.querySelector('#df-5ea4b56b-6ed0-4304-a796-2399afc21837 button.colab-df-convert');\n",
              "      buttonEl.style.display =\n",
              "        google.colab.kernel.accessAllowed ? 'block' : 'none';\n",
              "\n",
              "      async function convertToInteractive(key) {\n",
              "        const element = document.querySelector('#df-5ea4b56b-6ed0-4304-a796-2399afc21837');\n",
              "        const dataTable =\n",
              "          await google.colab.kernel.invokeFunction('convertToInteractive',\n",
              "                                                    [key], {});\n",
              "        if (!dataTable) return;\n",
              "\n",
              "        const docLinkHtml = 'Like what you see? Visit the ' +\n",
              "          '<a target=\"_blank\" href=https://colab.research.google.com/notebooks/data_table.ipynb>data table notebook</a>'\n",
              "          + ' to learn more about interactive tables.';\n",
              "        element.innerHTML = '';\n",
              "        dataTable['output_type'] = 'display_data';\n",
              "        await google.colab.output.renderOutput(dataTable, element);\n",
              "        const docLink = document.createElement('div');\n",
              "        docLink.innerHTML = docLinkHtml;\n",
              "        element.appendChild(docLink);\n",
              "      }\n",
              "    </script>\n",
              "  </div>\n",
              "\n",
              "\n",
              "<div id=\"df-781cb225-67d1-4682-9b56-d164748de48c\">\n",
              "  <button class=\"colab-df-quickchart\" onclick=\"quickchart('df-781cb225-67d1-4682-9b56-d164748de48c')\"\n",
              "            title=\"Suggest charts\"\n",
              "            style=\"display:none;\">\n",
              "\n",
              "<svg xmlns=\"http://www.w3.org/2000/svg\" height=\"24px\"viewBox=\"0 0 24 24\"\n",
              "     width=\"24px\">\n",
              "    <g>\n",
              "        <path d=\"M19 3H5c-1.1 0-2 .9-2 2v14c0 1.1.9 2 2 2h14c1.1 0 2-.9 2-2V5c0-1.1-.9-2-2-2zM9 17H7v-7h2v7zm4 0h-2V7h2v10zm4 0h-2v-4h2v4z\"/>\n",
              "    </g>\n",
              "</svg>\n",
              "  </button>\n",
              "\n",
              "<style>\n",
              "  .colab-df-quickchart {\n",
              "      --bg-color: #E8F0FE;\n",
              "      --fill-color: #1967D2;\n",
              "      --hover-bg-color: #E2EBFA;\n",
              "      --hover-fill-color: #174EA6;\n",
              "      --disabled-fill-color: #AAA;\n",
              "      --disabled-bg-color: #DDD;\n",
              "  }\n",
              "\n",
              "  [theme=dark] .colab-df-quickchart {\n",
              "      --bg-color: #3B4455;\n",
              "      --fill-color: #D2E3FC;\n",
              "      --hover-bg-color: #434B5C;\n",
              "      --hover-fill-color: #FFFFFF;\n",
              "      --disabled-bg-color: #3B4455;\n",
              "      --disabled-fill-color: #666;\n",
              "  }\n",
              "\n",
              "  .colab-df-quickchart {\n",
              "    background-color: var(--bg-color);\n",
              "    border: none;\n",
              "    border-radius: 50%;\n",
              "    cursor: pointer;\n",
              "    display: none;\n",
              "    fill: var(--fill-color);\n",
              "    height: 32px;\n",
              "    padding: 0;\n",
              "    width: 32px;\n",
              "  }\n",
              "\n",
              "  .colab-df-quickchart:hover {\n",
              "    background-color: var(--hover-bg-color);\n",
              "    box-shadow: 0 1px 2px rgba(60, 64, 67, 0.3), 0 1px 3px 1px rgba(60, 64, 67, 0.15);\n",
              "    fill: var(--button-hover-fill-color);\n",
              "  }\n",
              "\n",
              "  .colab-df-quickchart-complete:disabled,\n",
              "  .colab-df-quickchart-complete:disabled:hover {\n",
              "    background-color: var(--disabled-bg-color);\n",
              "    fill: var(--disabled-fill-color);\n",
              "    box-shadow: none;\n",
              "  }\n",
              "\n",
              "  .colab-df-spinner {\n",
              "    border: 2px solid var(--fill-color);\n",
              "    border-color: transparent;\n",
              "    border-bottom-color: var(--fill-color);\n",
              "    animation:\n",
              "      spin 1s steps(1) infinite;\n",
              "  }\n",
              "\n",
              "  @keyframes spin {\n",
              "    0% {\n",
              "      border-color: transparent;\n",
              "      border-bottom-color: var(--fill-color);\n",
              "      border-left-color: var(--fill-color);\n",
              "    }\n",
              "    20% {\n",
              "      border-color: transparent;\n",
              "      border-left-color: var(--fill-color);\n",
              "      border-top-color: var(--fill-color);\n",
              "    }\n",
              "    30% {\n",
              "      border-color: transparent;\n",
              "      border-left-color: var(--fill-color);\n",
              "      border-top-color: var(--fill-color);\n",
              "      border-right-color: var(--fill-color);\n",
              "    }\n",
              "    40% {\n",
              "      border-color: transparent;\n",
              "      border-right-color: var(--fill-color);\n",
              "      border-top-color: var(--fill-color);\n",
              "    }\n",
              "    60% {\n",
              "      border-color: transparent;\n",
              "      border-right-color: var(--fill-color);\n",
              "    }\n",
              "    80% {\n",
              "      border-color: transparent;\n",
              "      border-right-color: var(--fill-color);\n",
              "      border-bottom-color: var(--fill-color);\n",
              "    }\n",
              "    90% {\n",
              "      border-color: transparent;\n",
              "      border-bottom-color: var(--fill-color);\n",
              "    }\n",
              "  }\n",
              "</style>\n",
              "\n",
              "  <script>\n",
              "    async function quickchart(key) {\n",
              "      const quickchartButtonEl =\n",
              "        document.querySelector('#' + key + ' button');\n",
              "      quickchartButtonEl.disabled = true;  // To prevent multiple clicks.\n",
              "      quickchartButtonEl.classList.add('colab-df-spinner');\n",
              "      try {\n",
              "        const charts = await google.colab.kernel.invokeFunction(\n",
              "            'suggestCharts', [key], {});\n",
              "      } catch (error) {\n",
              "        console.error('Error during call to suggestCharts:', error);\n",
              "      }\n",
              "      quickchartButtonEl.classList.remove('colab-df-spinner');\n",
              "      quickchartButtonEl.classList.add('colab-df-quickchart-complete');\n",
              "    }\n",
              "    (() => {\n",
              "      let quickchartButtonEl =\n",
              "        document.querySelector('#df-781cb225-67d1-4682-9b56-d164748de48c button');\n",
              "      quickchartButtonEl.style.display =\n",
              "        google.colab.kernel.accessAllowed ? 'block' : 'none';\n",
              "    })();\n",
              "  </script>\n",
              "</div>\n",
              "\n",
              "    </div>\n",
              "  </div>\n"
            ],
            "application/vnd.google.colaboratory.intrinsic+json": {
              "type": "dataframe",
              "summary": "{\n  \"name\": \"df\",\n  \"rows\": 8,\n  \"fields\": [\n    {\n      \"column\": \"Births in last five years\",\n      \"properties\": {\n        \"dtype\": \"number\",\n        \"std\": 11993.21150206684,\n        \"min\": 0.7054596554587447,\n        \"max\": 33924.0,\n        \"num_unique_values\": 6,\n        \"samples\": [\n          33924.0,\n          1.8237825728098103,\n          6.0\n        ],\n        \"semantic_type\": \"\",\n        \"description\": \"\"\n      }\n    },\n    {\n      \"column\": \"Age of respondent at 1st birth\",\n      \"properties\": {\n        \"dtype\": \"number\",\n        \"std\": 11986.836153625467,\n        \"min\": 4.3131724824625906,\n        \"max\": 33924.0,\n        \"num_unique_values\": 8,\n        \"samples\": [\n          19.570775851904255,\n          19.0,\n          33924.0\n        ],\n        \"semantic_type\": \"\",\n        \"description\": \"\"\n      }\n    },\n    {\n      \"column\": \"Hemoglobin level adjusted for altitude and smoking (g/dl - 1 decimal)\",\n      \"properties\": {\n        \"dtype\": \"number\",\n        \"std\": 4608.692089755764,\n        \"min\": 15.915408420715398,\n        \"max\": 13136.0,\n        \"num_unique_values\": 8,\n        \"samples\": [\n          114.36723507917173,\n          115.0,\n          13136.0\n        ],\n        \"semantic_type\": \"\",\n        \"description\": \"\"\n      }\n    },\n    {\n      \"column\": \"Hemoglobin level adjusted for altitude (g/dl - 1 decimal)\",\n      \"properties\": {\n        \"dtype\": \"number\",\n        \"std\": 3568.7514776855755,\n        \"min\": 15.569583072371056,\n        \"max\": 10182.0,\n        \"num_unique_values\": 8,\n        \"samples\": [\n          101.27018267530937,\n          103.0,\n          10182.0\n        ],\n        \"semantic_type\": \"\",\n        \"description\": \"\"\n      }\n    }\n  ]\n}"
            }
          },
          "metadata": {},
          "execution_count": 7
        }
      ]
    },
    {
      "cell_type": "markdown",
      "source": [
        "#Null values"
      ],
      "metadata": {
        "id": "aCyIsgCgDfKF"
      }
    },
    {
      "cell_type": "code",
      "source": [
        "df.isnull().sum()"
      ],
      "metadata": {
        "id": "se89EFOxAKRM",
        "colab": {
          "base_uri": "https://localhost:8080/"
        },
        "outputId": "a833f7ac-fef1-41df-9d10-6b7bec7648bc"
      },
      "execution_count": null,
      "outputs": [
        {
          "output_type": "execute_result",
          "data": {
            "text/plain": [
              "Age in 5-year groups                                                         0\n",
              "Type of place of residence                                                   0\n",
              "Highest educational level                                                    0\n",
              "Wealth index combined                                                        0\n",
              "Births in last five years                                                    0\n",
              "Age of respondent at 1st birth                                               0\n",
              "Hemoglobin level adjusted for altitude and smoking (g/dl - 1 decimal)    20788\n",
              "Anemia level                                                             20788\n",
              "Have mosquito bed net for sleeping (from household questionnaire)            0\n",
              "Smokes cigarettes                                                            0\n",
              "Current marital status                                                       0\n",
              "Currently residing with husband/partner                                   1698\n",
              "When child put to breast                                                 12756\n",
              "Had fever in last two weeks                                               3211\n",
              "Hemoglobin level adjusted for altitude (g/dl - 1 decimal)                23742\n",
              "Anemia level.1                                                           23742\n",
              "Taking iron pills, sprinkles or syrup                                     3211\n",
              "dtype: int64"
            ]
          },
          "metadata": {},
          "execution_count": 8
        }
      ]
    },
    {
      "cell_type": "code",
      "source": [
        "for column in df.columns:\n",
        "    if df[column].dtype == 'object':\n",
        "        # For categorical columns, fill missing values with the mode\n",
        "        df[column].fillna(df[column].mode()[0], inplace=True)\n",
        "    else:\n",
        "        # For numerical columns, fill missing values with the median\n",
        "        df[column].fillna(df[column].median(), inplace=True)\n"
      ],
      "metadata": {
        "id": "32hkNp_TD3sB"
      },
      "execution_count": null,
      "outputs": []
    },
    {
      "cell_type": "code",
      "source": [
        "df.isnull().sum()"
      ],
      "metadata": {
        "colab": {
          "base_uri": "https://localhost:8080/"
        },
        "id": "OkVmexyOEPOh",
        "outputId": "48bb3088-4f1f-45f9-dc1b-4f5951cb8a7b"
      },
      "execution_count": null,
      "outputs": [
        {
          "output_type": "execute_result",
          "data": {
            "text/plain": [
              "Age in 5-year groups                                                     0\n",
              "Type of place of residence                                               0\n",
              "Highest educational level                                                0\n",
              "Wealth index combined                                                    0\n",
              "Births in last five years                                                0\n",
              "Age of respondent at 1st birth                                           0\n",
              "Hemoglobin level adjusted for altitude and smoking (g/dl - 1 decimal)    0\n",
              "Anemia level                                                             0\n",
              "Have mosquito bed net for sleeping (from household questionnaire)        0\n",
              "Smokes cigarettes                                                        0\n",
              "Current marital status                                                   0\n",
              "Currently residing with husband/partner                                  0\n",
              "When child put to breast                                                 0\n",
              "Had fever in last two weeks                                              0\n",
              "Hemoglobin level adjusted for altitude (g/dl - 1 decimal)                0\n",
              "Anemia level.1                                                           0\n",
              "Taking iron pills, sprinkles or syrup                                    0\n",
              "dtype: int64"
            ]
          },
          "metadata": {},
          "execution_count": 10
        }
      ]
    },
    {
      "cell_type": "markdown",
      "source": [
        "#Handling Duplicates"
      ],
      "metadata": {
        "id": "X6I403wtDtKR"
      }
    },
    {
      "cell_type": "code",
      "source": [
        "df.duplicated().sum()"
      ],
      "metadata": {
        "colab": {
          "base_uri": "https://localhost:8080/"
        },
        "id": "D8KL71xVAwOv",
        "outputId": "38fba070-da4c-4e74-cd25-e71086835dff"
      },
      "execution_count": null,
      "outputs": [
        {
          "output_type": "execute_result",
          "data": {
            "text/plain": [
              "7135"
            ]
          },
          "metadata": {},
          "execution_count": 11
        }
      ]
    },
    {
      "cell_type": "code",
      "source": [
        "df.drop_duplicates(inplace=True)"
      ],
      "metadata": {
        "id": "68_snotHDiqI"
      },
      "execution_count": null,
      "outputs": []
    },
    {
      "cell_type": "code",
      "source": [
        "df.duplicated().sum()"
      ],
      "metadata": {
        "colab": {
          "base_uri": "https://localhost:8080/"
        },
        "id": "X_zsH4ZaDpBq",
        "outputId": "64c789b9-930f-48fd-c9ce-946e6339a2fc"
      },
      "execution_count": null,
      "outputs": [
        {
          "output_type": "execute_result",
          "data": {
            "text/plain": [
              "0"
            ]
          },
          "metadata": {},
          "execution_count": 13
        }
      ]
    },
    {
      "cell_type": "markdown",
      "source": [
        "#Outliers"
      ],
      "metadata": {
        "id": "tAeoNKQ9EZDE"
      }
    },
    {
      "cell_type": "code",
      "source": [
        "import matplotlib.pyplot as plt\n",
        "import seaborn as sns\n",
        "from scipy.stats import zscore\n",
        "\n",
        "# Box plots to visually identify outliers\n",
        "numeric_columns = df.select_dtypes(include=['float64', 'int64']).columns\n",
        "\n",
        "for col in numeric_columns:\n",
        "    plt.figure(figsize=(10, 5))\n",
        "    sns.boxplot(x=df[col])\n",
        "    plt.title(f'Box plot for {col}')\n",
        "    plt.show()\n"
      ],
      "metadata": {
        "colab": {
          "base_uri": "https://localhost:8080/",
          "height": 1000
        },
        "id": "h6qO_2WVDrhA",
        "outputId": "2c311e0f-1a07-4058-f857-69325920a67e"
      },
      "execution_count": null,
      "outputs": [
        {
          "output_type": "display_data",
          "data": {
            "text/plain": [
              "<Figure size 1000x500 with 1 Axes>"
            ],
            "image/png": "[encoded data removed]"
          },
          "metadata": {}
        },
        {
          "output_type": "display_data",
          "data": {
            "text/plain": [
              "<Figure size 1000x500 with 1 Axes>"
            ],
            "image/png": "[encoded data removed]"
          },
          "metadata": {}
        },
        {
          "output_type": "display_data",
          "data": {
            "text/plain": [
              "<Figure size 1000x500 with 1 Axes>"
            ],
            "image/png": "[encoded data removed]"
          },
          "metadata": {}
        },
        {
          "output_type": "display_data",
          "data": {
            "text/plain": [
              "<Figure size 1000x500 with 1 Axes>"
            ],
            "image/png": "[encoded data removed]"
          },
          "metadata": {}
        }
      ]
    },
    {
      "cell_type": "code",
      "source": [
        "df['Anemia level.1'].value_counts()"
      ],
      "metadata": {
        "colab": {
          "base_uri": "https://localhost:8080/"
        },
        "id": "XqDYnqhDE89e",
        "outputId": "49fbff24-934d-480a-b6e4-a1daf2fceace"
      },
      "execution_count": null,
      "outputs": [
        {
          "output_type": "execute_result",
          "data": {
            "text/plain": [
              "Anemia level.1\n",
              "Moderate      20553\n",
              "Not anemic     3168\n",
              "Mild           2746\n",
              "Severe          322\n",
              "Name: count, dtype: int64"
            ]
          },
          "metadata": {},
          "execution_count": 15
        }
      ]
    },
    {
      "cell_type": "code",
      "source": [
        "# Z-scores to identify and remove outliers\n",
        "z_scores = df[numeric_columns].apply(zscore)\n",
        "outliers = (z_scores.abs() > 3).any(axis=1)\n",
        "df_no_outliers = df[~outliers]\n",
        "\n",
        "print(f'Shape before removing outliers: {df.shape}')\n",
        "print(f'Shape after removing outliers: {df_no_outliers.shape}')\n"
      ],
      "metadata": {
        "colab": {
          "base_uri": "https://localhost:8080/"
        },
        "id": "xNE4zLScE_ZB",
        "outputId": "70a19042-7a32-49cd-e592-d6a3f05508ca"
      },
      "execution_count": null,
      "outputs": [
        {
          "output_type": "stream",
          "name": "stdout",
          "text": [
            "Shape before removing outliers: (26789, 17)\n",
            "Shape after removing outliers: (25211, 17)\n"
          ]
        }
      ]
    },
    {
      "cell_type": "markdown",
      "source": [
        "#Handling Imbalancing"
      ],
      "metadata": {
        "id": "kltL2kFvFWom"
      }
    },
    {
      "cell_type": "code",
      "source": [
        "df['Anemia level.1'].value_counts()"
      ],
      "metadata": {
        "colab": {
          "base_uri": "https://localhost:8080/"
        },
        "id": "wiLNoRu8FQI6",
        "outputId": "c15725c8-312f-431c-bdda-e7935fdb91e0"
      },
      "execution_count": null,
      "outputs": [
        {
          "output_type": "execute_result",
          "data": {
            "text/plain": [
              "Anemia level.1\n",
              "Moderate      20553\n",
              "Not anemic     3168\n",
              "Mild           2746\n",
              "Severe          322\n",
              "Name: count, dtype: int64"
            ]
          },
          "metadata": {},
          "execution_count": 17
        }
      ]
    },
    {
      "cell_type": "code",
      "source": [
        "class_counts = df['Anemia level.1'].value_counts()\n",
        "total_samples = len(df_no_outliers)\n",
        "class_weights = {label: total_samples / count for label, count in class_counts.items()}\n",
        "print(class_weights)"
      ],
      "metadata": {
        "colab": {
          "base_uri": "https://localhost:8080/"
        },
        "id": "7MAoCXx9FSht",
        "outputId": "025d9b19-193b-4a4a-c3f4-6c26de46182b"
      },
      "execution_count": null,
      "outputs": [
        {
          "output_type": "stream",
          "name": "stdout",
          "text": [
            "{'Moderate': 1.226633581472291, 'Not anemic': 7.9580176767676765, 'Mild': 9.180990531682447, 'Severe': 78.29503105590062}\n"
          ]
        }
      ]
    },
    {
      "cell_type": "markdown",
      "source": [
        "#Logistic Regression"
      ],
      "metadata": {
        "id": "SYF1QvsQIEE6"
      }
    },
    {
      "cell_type": "code",
      "source": [
        "# Splitting data into features and target\n",
        "X = df.drop('Anemia level.1', axis=1)\n",
        "y = df['Anemia level.1']"
      ],
      "metadata": {
        "id": "I6OmeinZG2rs"
      },
      "execution_count": null,
      "outputs": []
    },
    {
      "cell_type": "code",
      "source": [
        "for column in X.columns:\n",
        "    if X[column].dtype == 'object':\n",
        "        X = pd.get_dummies(X, columns=[column], drop_first=True)"
      ],
      "metadata": {
        "id": "QA1k0UkaIKR7"
      },
      "execution_count": null,
      "outputs": []
    },
    {
      "cell_type": "code",
      "source": [
        "df.info()"
      ],
      "metadata": {
        "colab": {
          "base_uri": "https://localhost:8080/"
        },
        "id": "DjeALp23KAlZ",
        "outputId": "b2a49608-3339-4266-b25d-1d330ef38019"
      },
      "execution_count": null,
      "outputs": [
        {
          "output_type": "stream",
          "name": "stdout",
          "text": [
            "<class 'pandas.core.frame.DataFrame'>\n",
            "Index: 26789 entries, 0 to 33923\n",
            "Data columns (total 17 columns):\n",
            " #   Column                                                                 Non-Null Count  Dtype  \n",
            "---  ------                                                                 --------------  -----  \n",
            " 0   Age in 5-year groups                                                   26789 non-null  object \n",
            " 1   Type of place of residence                                             26789 non-null  object \n",
            " 2   Highest educational level                                              26789 non-null  object \n",
            " 3   Wealth index combined                                                  26789 non-null  object \n",
            " 4   Births in last five years                                              26789 non-null  int64  \n",
            " 5   Age of respondent at 1st birth                                         26789 non-null  int64  \n",
            " 6   Hemoglobin level adjusted for altitude and smoking (g/dl - 1 decimal)  26789 non-null  float64\n",
            " 7   Anemia level                                                           26789 non-null  object \n",
            " 8   Have mosquito bed net for sleeping (from household questionnaire)      26789 non-null  object \n",
            " 9   Smokes cigarettes                                                      26789 non-null  object \n",
            " 10  Current marital status                                                 26789 non-null  object \n",
            " 11  Currently residing with husband/partner                                26789 non-null  object \n",
            " 12  When child put to breast                                               26789 non-null  object \n",
            " 13  Had fever in last two weeks                                            26789 non-null  object \n",
            " 14  Hemoglobin level adjusted for altitude (g/dl - 1 decimal)              26789 non-null  float64\n",
            " 15  Anemia level.1                                                         26789 non-null  object \n",
            " 16  Taking iron pills, sprinkles or syrup                                  26789 non-null  object \n",
            "dtypes: float64(2), int64(2), object(13)\n",
            "memory usage: 3.7+ MB\n"
          ]
        }
      ]
    },
    {
      "cell_type": "code",
      "source": [
        "from sklearn.model_selection import train_test_split\n",
        "from sklearn.linear_model import LogisticRegression\n",
        "from sklearn.preprocessing import StandardScaler\n",
        "from sklearn.metrics import classification_report, confusion_matrix"
      ],
      "metadata": {
        "id": "NxnEQq5aIlN9"
      },
      "execution_count": null,
      "outputs": []
    },
    {
      "cell_type": "code",
      "source": [
        "df.info()"
      ],
      "metadata": {
        "colab": {
          "base_uri": "https://localhost:8080/"
        },
        "id": "KkUEIIqfIlqo",
        "outputId": "45485b9e-83e2-4609-f274-ef730a2d0afb"
      },
      "execution_count": null,
      "outputs": [
        {
          "output_type": "stream",
          "name": "stdout",
          "text": [
            "<class 'pandas.core.frame.DataFrame'>\n",
            "Index: 26789 entries, 0 to 33923\n",
            "Data columns (total 17 columns):\n",
            " #   Column                                                                 Non-Null Count  Dtype  \n",
            "---  ------                                                                 --------------  -----  \n",
            " 0   Age in 5-year groups                                                   26789 non-null  object \n",
            " 1   Type of place of residence                                             26789 non-null  object \n",
            " 2   Highest educational level                                              26789 non-null  object \n",
            " 3   Wealth index combined                                                  26789 non-null  object \n",
            " 4   Births in last five years                                              26789 non-null  int64  \n",
            " 5   Age of respondent at 1st birth                                         26789 non-null  int64  \n",
            " 6   Hemoglobin level adjusted for altitude and smoking (g/dl - 1 decimal)  26789 non-null  float64\n",
            " 7   Anemia level                                                           26789 non-null  object \n",
            " 8   Have mosquito bed net for sleeping (from household questionnaire)      26789 non-null  object \n",
            " 9   Smokes cigarettes                                                      26789 non-null  object \n",
            " 10  Current marital status                                                 26789 non-null  object \n",
            " 11  Currently residing with husband/partner                                26789 non-null  object \n",
            " 12  When child put to breast                                               26789 non-null  object \n",
            " 13  Had fever in last two weeks                                            26789 non-null  object \n",
            " 14  Hemoglobin level adjusted for altitude (g/dl - 1 decimal)              26789 non-null  float64\n",
            " 15  Anemia level.1                                                         26789 non-null  object \n",
            " 16  Taking iron pills, sprinkles or syrup                                  26789 non-null  object \n",
            "dtypes: float64(2), int64(2), object(13)\n",
            "memory usage: 3.7+ MB\n"
          ]
        }
      ]
    },
    {
      "cell_type": "code",
      "source": [
        "one_hot_columns = ['Type of place of residence', 'Have mosquito bed net for sleeping (from household questionnaire)' , 'Smokes cigarettes' , 'Current marital status' , 'Currently residing with husband/partner' , 'Taking iron pills, sprinkles or syrup']\n",
        "label_encode_columns = ['Highest educational level' ,  'Wealth index combined' , 'Anemia level.1']"
      ],
      "metadata": {
        "id": "s5gj0TNvLe7s"
      },
      "execution_count": null,
      "outputs": []
    },
    {
      "cell_type": "code",
      "source": [
        "from sklearn.preprocessing import StandardScaler, LabelEncoder\n",
        "\n",
        "# One-hot encode specified columns\n",
        "for col in one_hot_columns:\n",
        "    if col in X.columns:\n",
        "        X = pd.get_dummies(X, columns=[col], drop_first=True)\n",
        "    else:\n",
        "        print(f\"Column '{col}' not found in DataFrame\")\n",
        "\n",
        "# Label encode specified columns\n",
        "label_encoder = LabelEncoder()\n",
        "for column in label_encode_columns:\n",
        "    if column in X.columns:\n",
        "        X[column] = label_encoder.fit_transform(X[column])\n",
        "    else:\n",
        "        print(f\"Column '{column}' not found in DataFrame\")"
      ],
      "metadata": {
        "colab": {
          "base_uri": "https://localhost:8080/"
        },
        "id": "NOJnQNbVNFHd",
        "outputId": "6a1e916b-5e3f-4721-a85a-354be60e29ae"
      },
      "execution_count": null,
      "outputs": [
        {
          "output_type": "stream",
          "name": "stdout",
          "text": [
            "Column 'Type of place of residence' not found in DataFrame\n",
            "Column 'Have mosquito bed net for sleeping (from household questionnaire)' not found in DataFrame\n",
            "Column 'Smokes cigarettes' not found in DataFrame\n",
            "Column 'Current marital status' not found in DataFrame\n",
            "Column 'Currently residing with husband/partner' not found in DataFrame\n",
            "Column 'Taking iron pills, sprinkles or syrup' not found in DataFrame\n",
            "Column 'Highest educational level' not found in DataFrame\n",
            "Column 'Wealth index combined' not found in DataFrame\n",
            "Column 'Anemia level.1' not found in DataFrame\n"
          ]
        }
      ]
    },
    {
      "cell_type": "code",
      "source": [],
      "metadata": {
        "id": "ltvFDNS9NQmq"
      },
      "execution_count": null,
      "outputs": []
    }
  ]
}